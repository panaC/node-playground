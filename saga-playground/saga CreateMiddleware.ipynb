{
 "cells": [
  {
   "cell_type": "code",
   "execution_count": 1,
   "metadata": {},
   "outputs": [
    {
     "data": {
      "text/plain": [
       "{}"
      ]
     },
     "execution_count": 1,
     "metadata": {},
     "output_type": "execute_result"
    }
   ],
   "source": [
    "import * as saga from \"redux-saga\""
   ]
  },
  {
   "cell_type": "code",
   "execution_count": 2,
   "metadata": {},
   "outputs": [
    {
     "data": {
      "text/plain": [
       "{\n",
       "  CANCEL: [Getter],\n",
       "  SAGA_LOCATION: [Getter],\n",
       "  buffers: [Getter],\n",
       "  detach: [Getter],\n",
       "  END: [Getter],\n",
       "  channel: [Getter],\n",
       "  eventChannel: [Getter],\n",
       "  isEnd: [Getter],\n",
       "  multicastChannel: [Getter],\n",
       "  runSaga: [Getter],\n",
       "  stdChannel: [Getter],\n",
       "  default: [Function: sagaMiddlewareFactory]\n",
       "}"
      ]
     },
     "execution_count": 2,
     "metadata": {},
     "output_type": "execute_result"
    }
   ],
   "source": [
    "saga"
   ]
  },
  {
   "cell_type": "code",
   "execution_count": 3,
   "metadata": {},
   "outputs": [
    {
     "ename": "Error",
     "evalue": "Line 1, Character 29\nconst sagaMiddleware = saga.createSagaMiddleware()\n____________________________^\nTS2339: Property 'createSagaMiddleware' does not exist on type 'typeof import(\"/Users/Pierre/Documents/node/node_modules/redux-saga/index\")'.",
     "output_type": "error",
     "traceback": [
      "Error: Line 1, Character 29",
      "const sagaMiddleware = saga.createSagaMiddleware()",
      "____________________________^",
      "TS2339: Property 'createSagaMiddleware' does not exist on type 'typeof import(\"/Users/Pierre/Documents/node/node_modules/redux-saga/index\")'.",
      "    at execTranspile (/usr/local/lib/node_modules/itypescript/lib/kernel.js:203:27)",
      "    at Session.transpiler [as transpile] (/usr/local/lib/node_modules/itypescript/lib/kernel.js:263:37)",
      "    at Session._runNow (/usr/local/lib/node_modules/itypescript/node_modules/nel/lib/nel.js:796:39)",
      "    at Session._run (/usr/local/lib/node_modules/itypescript/node_modules/nel/lib/nel.js:766:14)",
      "    at Session.execute (/usr/local/lib/node_modules/itypescript/node_modules/nel/lib/nel.js:890:10)",
      "    at Kernel.execute_request (/usr/local/lib/node_modules/itypescript/node_modules/jp-kernel/lib/handlers_v5.js:116:18)",
      "    at Kernel.onShellMessage (/usr/local/lib/node_modules/itypescript/node_modules/jp-kernel/lib/jp-kernel.js:285:41)",
      "    at Socket.<anonymous> (/usr/local/lib/node_modules/itypescript/node_modules/jmp/index.js:350:17)",
      "    at Socket.emit (events.js:311:20)",
      "    at Socket._emitMessage (/usr/local/lib/node_modules/itypescript/node_modules/zeromq/lib/index.js:640:15)"
     ]
    }
   ],
   "source": [
    "const sagaMiddleware = saga.createSagaMiddleware()"
   ]
  },
  {
   "cell_type": "code",
   "execution_count": null,
   "metadata": {},
   "outputs": [],
   "source": []
  }
 ],
 "metadata": {
  "kernelspec": {
   "display_name": "Typescript 3.8",
   "language": "typescript",
   "name": "typescript"
  },
  "language_info": {
   "file_extension": ".ts",
   "mimetype": "application/x-typescript",
   "name": "typescript",
   "version": "3.8.3"
  }
 },
 "nbformat": 4,
 "nbformat_minor": 4
}
