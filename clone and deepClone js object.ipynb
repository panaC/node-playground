{
 "cells": [
  {
   "cell_type": "code",
   "execution_count": 1,
   "metadata": {},
   "outputs": [
    {
     "data": {
      "text/plain": [
       "undefined"
      ]
     },
     "execution_count": 1,
     "metadata": {},
     "output_type": "execute_result"
    }
   ],
   "source": [
    "var rand = (n: number) => Math.round(Math.random() * Math.pow(10, n))"
   ]
  },
  {
   "cell_type": "code",
   "execution_count": 2,
   "metadata": {},
   "outputs": [
    {
     "data": {
      "text/plain": [
       "7146313853"
      ]
     },
     "execution_count": 2,
     "metadata": {},
     "output_type": "execute_result"
    }
   ],
   "source": [
    "rand(10)"
   ]
  },
  {
   "cell_type": "code",
   "execution_count": 3,
   "metadata": {},
   "outputs": [
    {
     "data": {
      "text/plain": [
       "undefined"
      ]
     },
     "execution_count": 3,
     "metadata": {},
     "output_type": "execute_result"
    }
   ],
   "source": [
    "var fakeJson = (h: number, w: number, n: number): any => {\n",
    "    const ret = {};\n",
    "    for (let _h = 0; _h < h; _h++) {\n",
    "        if (rand(2) % 2) {\n",
    "            const o = {};\n",
    "            for (let _w = 0; _w < w; _w++) {\n",
    "                o[rand(n)] = `${rand(n)}`;\n",
    "            }\n",
    "            ret[rand(n)] = o;\n",
    "        } else {\n",
    "            ret[rand(n)] = rand(n);\n",
    "        }\n",
    "    }\n",
    "    return ret;\n",
    "}"
   ]
  },
  {
   "cell_type": "code",
   "execution_count": 4,
   "metadata": {},
   "outputs": [
    {
     "data": {
      "text/plain": [
       "undefined"
      ]
     },
     "execution_count": 4,
     "metadata": {},
     "output_type": "execute_result"
    }
   ],
   "source": [
    "var faJs = fakeJson(10, 10, 10)"
   ]
  },
  {
   "cell_type": "code",
   "execution_count": 5,
   "metadata": {},
   "outputs": [
    {
     "data": {
      "text/plain": [
       "{\n",
       "  '1503292102': {\n",
       "    '361704079': '533964345',\n",
       "    '1142441796': '6634914561',\n",
       "    '2504848893': '7137449473',\n",
       "    '6673132322': '5343884880',\n",
       "    '6974248367': '180961187',\n",
       "    '5076312087': '5201489928',\n",
       "    '5500515141': '810430186',\n",
       "    '7169127687': '526065446',\n",
       "    '5745978551': '7703245112',\n",
       "    '6807841857': '3967373103'\n",
       "  },\n",
       "  '2311183488': 3747560962,\n",
       "  '4133769303': {\n",
       "    '272023868': '5890930726',\n",
       "    '549123832': '5275887006',\n",
       "    '2241567933': '2594226581',\n",
       "    '2985804689': '2211489555',\n",
       "    '3849411371': '2992932407',\n",
       "    '5106695845': '1042737517',\n",
       "    '4554299026': '1506382566',\n",
       "    '6786607503': '5091006800',\n",
       "    '7749709937': '5279209571',\n",
       "    '5779419071': '9858492503'\n",
       "  },\n",
       "  '9853030931': 3040840642,\n",
       "  '6005477582': {\n",
       "    '17394304': '1379707420',\n",
       "    '2295209226': '2659175504',\n",
       "    '2394851709': '3571552662',\n",
       "    '3720423312': '4136872267',\n",
       "    '8355060746': '7985659173',\n",
       "    '9843055630': '1783575501',\n",
       "    '4328348304': '9812980556',\n",
       "    '4565436696': '7637321112',\n",
       "    '9092191903': '9308833801',\n",
       "    '9019018265': '8898405933'\n",
       "  },\n",
       "  '9409501917': {\n",
       "    '949557522': '6582930481',\n",
       "    '1447541648': '2301515612',\n",
       "    '2736746648': '7583201894',\n",
       "    '5475955293': '2979219448',\n",
       "    '4687142035': '2911985448',\n",
       "    '9416397163': '1475864755',\n",
       "    '4626626268': '5712772452',\n",
       "    '5376121318': '4315668893',\n",
       "    '5423644097': '4178659387',\n",
       "    '5093839626': '2370747124'\n",
       "  },\n",
       "  '4602006146': {\n",
       "    '467019965': '9395777778',\n",
       "    '578364641': '1243723539',\n",
       "    '2012073160': '747458726',\n",
       "    '2553196327': '9739528484',\n",
       "    '3057470276': '4468641009',\n",
       "    '5512760308': '9519032868',\n",
       "    '8660466657': '6700685495',\n",
       "    '5767645713': '5253411226',\n",
       "    '6229023387': '9896873107',\n",
       "    '8941341456': '3233027180'\n",
       "  },\n",
       "  '7891527139': 9747464995,\n",
       "  '9252791738': {\n",
       "    '2289570243': '8289065541',\n",
       "    '2939969253': '7812857124',\n",
       "    '4054502858': '7436350920',\n",
       "    '4146582470': '8957669591',\n",
       "    '6396933790': '2907879710',\n",
       "    '4550798671': '5689193827',\n",
       "    '5271478144': '9511664690',\n",
       "    '6810781337': '644742612',\n",
       "    '4737960807': '4356738045',\n",
       "    '5841487772': '2454815274'\n",
       "  },\n",
       "  '4961362838': {\n",
       "    '309860670': '7675303000',\n",
       "    '1491358074': '6099886987',\n",
       "    '2461976196': '6954070655',\n",
       "    '3611759923': '6640249824',\n",
       "    '7468118056': '3020617021',\n",
       "    '4594771303': '9091553466',\n",
       "    '6474402215': '7847625641',\n",
       "    '5152861150': '9184720464',\n",
       "    '9212303772': '9176165956',\n",
       "    '6178855445': '1784700572'\n",
       "  }\n",
       "}"
      ]
     },
     "execution_count": 5,
     "metadata": {},
     "output_type": "execute_result"
    }
   ],
   "source": [
    "faJs"
   ]
  },
  {
   "cell_type": "code",
   "execution_count": 6,
   "metadata": {},
   "outputs": [
    {
     "data": {
      "text/plain": [
       "undefined"
      ]
     },
     "execution_count": 6,
     "metadata": {},
     "output_type": "execute_result"
    }
   ],
   "source": [
    "var benchAssign = (json: any): any => {\n",
    "    const label = \"assign\";\n",
    "\n",
    "    console.time(label);\n",
    "\n",
    "    const ret = (<any>Object).assign({}, json)\n",
    "\n",
    "    console.timeEnd(label)\n",
    "    \n",
    "    return ret;\n",
    "}\n",
    "\n"
   ]
  },
  {
   "cell_type": "code",
   "execution_count": 7,
   "metadata": {},
   "outputs": [
    {
     "data": {
      "text/plain": [
       "undefined"
      ]
     },
     "execution_count": 7,
     "metadata": {},
     "output_type": "execute_result"
    }
   ],
   "source": [
    "var benchMap = (json: any): any => {\n",
    "    const label = \"entrie\";\n",
    "\n",
    "    console.time(label);\n",
    "\n",
    "    const ret = Object.fromEntries(Object.entries(json));\n",
    "\n",
    "    console.timeEnd(label)\n",
    "    \n",
    "    return ret;\n",
    "}"
   ]
  },
  {
   "cell_type": "code",
   "execution_count": 8,
   "metadata": {},
   "outputs": [
    {
     "name": "stdout",
     "output_type": "stream",
     "text": [
      "assign: 0.119ms\n",
      "entrie: 0.031ms\n"
     ]
    },
    {
     "data": {
      "text/plain": [
       "undefined"
      ]
     },
     "execution_count": 8,
     "metadata": {},
     "output_type": "execute_result"
    }
   ],
   "source": [
    "var r1 = benchAssign(faJs);\n",
    "var r2 = benchMap(faJs);"
   ]
  },
  {
   "cell_type": "code",
   "execution_count": 9,
   "metadata": {},
   "outputs": [
    {
     "name": "stdout",
     "output_type": "stream",
     "text": [
      "0 0  :: \n",
      "assign: 0.024ms\n",
      "entrie: 0.018ms\n",
      "0 100  :: \n",
      "assign: 0.017ms\n",
      "entrie: 0.018ms\n",
      "0 200  :: \n",
      "assign: 0.021ms\n",
      "entrie: 0.011ms\n",
      "0 300  :: \n",
      "assign: 0.011ms\n",
      "entrie: 0.012ms\n",
      "0 400  :: \n",
      "assign: 0.011ms\n",
      "entrie: 0.010ms\n",
      "0 500  :: \n",
      "assign: 0.010ms\n",
      "entrie: 0.010ms\n",
      "0 600  :: \n",
      "assign: 0.010ms\n",
      "entrie: 0.010ms\n",
      "0 700  :: \n",
      "assign: 0.009ms\n",
      "entrie: 0.009ms\n",
      "0 800  :: \n",
      "assign: 0.009ms\n",
      "entrie: 0.009ms\n",
      "0 900  :: \n",
      "assign: 0.009ms\n",
      "entrie: 0.009ms\n",
      "100 0  :: \n",
      "assign: 0.010ms\n",
      "entrie: 0.009ms\n",
      "100 100  :: \n",
      "assign: 0.024ms\n",
      "entrie: 0.020ms\n",
      "100 200  :: \n",
      "assign: 0.026ms\n",
      "entrie: 0.022ms\n",
      "100 300  :: \n",
      "assign: 0.025ms\n",
      "entrie: 0.021ms\n",
      "100 400  :: \n",
      "assign: 0.025ms\n",
      "entrie: 0.025ms\n",
      "100 500  :: \n",
      "assign: 0.039ms\n",
      "entrie: 0.020ms\n",
      "100 600  :: \n",
      "assign: 0.038ms\n",
      "entrie: 0.034ms\n",
      "100 700  :: \n",
      "assign: 0.144ms\n",
      "entrie: 0.053ms\n",
      "100 800  :: \n",
      "assign: 0.022ms\n",
      "entrie: 0.015ms\n",
      "100 900  :: \n",
      "assign: 0.050ms\n",
      "entrie: 0.029ms\n",
      "200 0  :: \n",
      "assign: 1.152ms\n",
      "entrie: 0.036ms\n",
      "200 100  :: \n",
      "assign: 0.033ms\n",
      "entrie: 0.038ms\n",
      "200 200  :: \n",
      "assign: 0.092ms\n",
      "entrie: 0.047ms\n",
      "200 300  :: \n",
      "assign: 0.028ms\n",
      "entrie: 0.019ms\n",
      "200 400  :: \n",
      "assign: 0.059ms\n",
      "entrie: 0.030ms\n",
      "200 500  :: \n",
      "assign: 0.047ms\n",
      "entrie: 0.031ms\n",
      "200 600  :: \n",
      "assign: 0.044ms\n",
      "entrie: 0.031ms\n",
      "200 700  :: \n",
      "assign: 0.021ms\n",
      "entrie: 0.016ms\n",
      "200 800  :: \n",
      "assign: 0.024ms\n",
      "entrie: 0.017ms\n",
      "200 900  :: \n",
      "assign: 0.023ms\n",
      "entrie: 0.016ms\n",
      "300 0  :: \n",
      "assign: 0.013ms\n",
      "entrie: 0.010ms\n",
      "300 100  :: \n",
      "assign: 0.023ms\n",
      "entrie: 0.015ms\n",
      "300 200  :: \n",
      "assign: 0.066ms\n",
      "entrie: 0.052ms\n",
      "300 300  :: \n",
      "assign: 0.026ms\n",
      "entrie: 0.017ms\n",
      "300 400  :: \n",
      "assign: 0.025ms\n",
      "entrie: 0.021ms\n",
      "300 500  :: \n",
      "assign: 0.023ms\n",
      "entrie: 0.017ms\n",
      "300 600  :: \n",
      "assign: 0.022ms\n",
      "entrie: 0.015ms\n",
      "300 700  :: \n",
      "assign: 0.023ms\n",
      "entrie: 0.016ms\n",
      "300 800  :: \n",
      "assign: 0.021ms\n",
      "entrie: 0.016ms\n",
      "300 900  :: \n",
      "assign: 0.021ms\n",
      "entrie: 0.016ms\n",
      "400 0  :: \n",
      "assign: 0.013ms\n",
      "entrie: 0.018ms\n",
      "400 100  :: \n",
      "assign: 0.024ms\n",
      "entrie: 0.017ms\n",
      "400 200  :: \n",
      "assign: 0.028ms\n",
      "entrie: 0.023ms\n",
      "400 300  :: \n",
      "assign: 0.031ms\n",
      "entrie: 0.016ms\n",
      "400 400  :: \n",
      "assign: 0.022ms\n",
      "entrie: 0.016ms\n",
      "400 500  :: \n",
      "assign: 0.030ms\n",
      "entrie: 0.018ms\n",
      "400 600  :: \n",
      "assign: 0.022ms\n",
      "entrie: 0.015ms\n",
      "400 700  :: \n",
      "assign: 0.022ms\n",
      "entrie: 0.016ms\n",
      "400 800  :: \n",
      "assign: 0.025ms\n",
      "entrie: 0.016ms\n",
      "400 900  :: \n",
      "assign: 0.022ms\n",
      "entrie: 0.016ms\n",
      "500 0  :: \n",
      "assign: 2.089ms\n",
      "entrie: 0.035ms\n",
      "500 100  :: \n",
      "assign: 0.022ms\n",
      "entrie: 0.016ms\n",
      "500 200  :: \n",
      "assign: 0.022ms\n",
      "entrie: 0.017ms\n",
      "500 300  :: \n",
      "assign: 0.022ms\n",
      "entrie: 0.015ms\n",
      "500 400  :: \n",
      "assign: 0.023ms\n",
      "entrie: 0.035ms\n",
      "500 500  :: \n",
      "assign: 0.024ms\n",
      "entrie: 0.017ms\n",
      "500 600  :: \n",
      "assign: 0.023ms\n",
      "entrie: 0.017ms\n",
      "500 700  :: \n",
      "assign: 0.025ms\n",
      "entrie: 0.016ms\n",
      "500 800  :: \n",
      "assign: 0.023ms\n",
      "entrie: 0.015ms\n",
      "500 900  :: \n",
      "assign: 0.024ms\n",
      "entrie: 0.015ms\n",
      "600 0  :: \n",
      "assign: 0.015ms\n",
      "entrie: 0.011ms\n",
      "600 100  :: \n",
      "assign: 0.040ms\n",
      "entrie: 0.020ms\n",
      "600 200  :: \n",
      "assign: 0.025ms\n",
      "entrie: 0.023ms\n",
      "600 300  :: \n",
      "assign: 0.023ms\n",
      "entrie: 0.020ms\n",
      "600 400  :: \n",
      "assign: 0.021ms\n",
      "entrie: 0.017ms\n",
      "600 500  :: \n",
      "assign: 0.023ms\n",
      "entrie: 0.015ms\n",
      "600 600  :: \n",
      "assign: 0.022ms\n",
      "entrie: 0.016ms\n",
      "600 700  :: \n",
      "assign: 0.031ms\n",
      "entrie: 0.019ms\n",
      "600 800  :: \n",
      "assign: 0.024ms\n",
      "entrie: 0.016ms\n",
      "600 900  :: \n",
      "assign: 0.024ms\n",
      "entrie: 0.017ms\n",
      "700 0  :: \n",
      "assign: 0.030ms\n",
      "entrie: 0.032ms\n",
      "700 100  :: \n",
      "assign: 0.021ms\n",
      "entrie: 0.015ms\n",
      "700 200  :: \n",
      "assign: 0.025ms\n",
      "entrie: 0.016ms\n",
      "700 300  :: \n",
      "assign: 0.023ms\n",
      "entrie: 0.016ms\n",
      "700 400  :: \n",
      "assign: 0.025ms\n",
      "entrie: 0.016ms\n",
      "700 500  :: \n",
      "assign: 0.032ms\n",
      "entrie: 0.025ms\n",
      "700 600  :: \n",
      "assign: 0.022ms\n",
      "entrie: 0.016ms\n",
      "700 700  :: \n",
      "assign: 0.023ms\n",
      "entrie: 0.015ms\n",
      "700 800  :: \n",
      "assign: 0.024ms\n",
      "entrie: 0.016ms\n",
      "700 900  :: \n",
      "assign: 0.022ms\n",
      "entrie: 0.015ms\n",
      "800 0  :: \n",
      "assign: 0.020ms\n",
      "entrie: 0.016ms\n",
      "800 100  :: \n",
      "assign: 0.024ms\n",
      "entrie: 0.016ms\n",
      "800 200  :: \n",
      "assign: 0.024ms\n",
      "entrie: 0.020ms\n",
      "800 300  :: \n",
      "assign: 0.023ms\n",
      "entrie: 0.016ms\n",
      "800 400  :: \n",
      "assign: 0.022ms\n",
      "entrie: 0.017ms\n",
      "800 500  :: \n",
      "assign: 0.022ms\n",
      "entrie: 0.016ms\n",
      "800 600  :: \n",
      "assign: 0.023ms\n",
      "entrie: 0.016ms\n",
      "800 700  :: \n",
      "assign: 0.022ms\n",
      "entrie: 0.016ms\n",
      "800 800  :: \n",
      "assign: 0.025ms\n",
      "entrie: 0.017ms\n",
      "800 900  :: \n",
      "assign: 0.030ms\n",
      "entrie: 0.018ms\n",
      "900 0  :: \n",
      "assign: 0.016ms\n",
      "entrie: 0.013ms\n",
      "900 100  :: \n",
      "assign: 0.023ms\n",
      "entrie: 0.016ms\n",
      "900 200  :: \n",
      "assign: 0.022ms\n",
      "entrie: 0.016ms\n",
      "900 300  :: \n",
      "assign: 0.023ms\n",
      "entrie: 0.016ms\n",
      "900 400  :: \n",
      "assign: 0.022ms\n",
      "entrie: 0.016ms\n",
      "900 500  :: \n",
      "assign: 0.021ms\n",
      "entrie: 0.016ms\n",
      "900 600  :: \n",
      "assign: 0.022ms\n",
      "entrie: 0.015ms\n",
      "900 700  :: \n",
      "assign: 0.025ms\n",
      "entrie: 0.016ms\n",
      "900 800  :: \n",
      "assign: 0.023ms\n",
      "entrie: 0.015ms\n",
      "900 900  :: \n",
      "assign: 0.024ms\n",
      "entrie: 0.017ms\n"
     ]
    },
    {
     "data": {
      "text/plain": [
       "undefined"
      ]
     },
     "execution_count": 9,
     "metadata": {},
     "output_type": "execute_result"
    }
   ],
   "source": [
    "for (var i = 0; i < 1000; i += 100) {\n",
    "    for (var j = 0; j < 1000; j += 100) {\n",
    "        console.log(i, j, \" :: \");\n",
    "        var fJson = fakeJson(i, j, 10);\n",
    "        var r1 = benchAssign(faJs);\n",
    "        var r2 = benchMap(faJs);\n",
    "    }\n",
    "}"
   ]
  },
  {
   "cell_type": "code",
   "execution_count": 10,
   "metadata": {},
   "outputs": [
    {
     "data": {
      "text/plain": [
       "undefined"
      ]
     },
     "execution_count": 10,
     "metadata": {},
     "output_type": "execute_result"
    }
   ],
   "source": [
    "r2.hello"
   ]
  },
  {
   "cell_type": "code",
   "execution_count": 11,
   "metadata": {},
   "outputs": [
    {
     "data": {
      "text/plain": [
       "undefined"
      ]
     },
     "execution_count": 11,
     "metadata": {},
     "output_type": "execute_result"
    }
   ],
   "source": [
    "faJs.hello"
   ]
  },
  {
   "cell_type": "code",
   "execution_count": 12,
   "metadata": {},
   "outputs": [
    {
     "data": {
      "text/plain": [
       "'hello world'"
      ]
     },
     "execution_count": 12,
     "metadata": {},
     "output_type": "execute_result"
    }
   ],
   "source": [
    "faJs.hello = \"hello world\""
   ]
  },
  {
   "cell_type": "code",
   "execution_count": 13,
   "metadata": {},
   "outputs": [
    {
     "data": {
      "text/plain": [
       "undefined"
      ]
     },
     "execution_count": 13,
     "metadata": {},
     "output_type": "execute_result"
    }
   ],
   "source": [
    "r2.hello"
   ]
  },
  {
   "cell_type": "code",
   "execution_count": 14,
   "metadata": {},
   "outputs": [
    {
     "data": {
      "text/plain": [
       "'1503292102'"
      ]
     },
     "execution_count": 14,
     "metadata": {},
     "output_type": "execute_result"
    }
   ],
   "source": [
    "var ptr = Object.keys(faJs).find((key) => typeof faJs[key] === \"object\");\n",
    "ptr"
   ]
  },
  {
   "cell_type": "code",
   "execution_count": 15,
   "metadata": {},
   "outputs": [
    {
     "data": {
      "text/plain": [
       "{\n",
       "  '361704079': '533964345',\n",
       "  '1142441796': '6634914561',\n",
       "  '2504848893': '7137449473',\n",
       "  '6673132322': '5343884880',\n",
       "  '6974248367': '180961187',\n",
       "  '5076312087': '5201489928',\n",
       "  '5500515141': '810430186',\n",
       "  '7169127687': '526065446',\n",
       "  '5745978551': '7703245112',\n",
       "  '6807841857': '3967373103'\n",
       "}"
      ]
     },
     "execution_count": 15,
     "metadata": {},
     "output_type": "execute_result"
    }
   ],
   "source": [
    "faJs[ptr]"
   ]
  },
  {
   "cell_type": "code",
   "execution_count": 16,
   "metadata": {},
   "outputs": [
    {
     "data": {
      "text/plain": [
       "{\n",
       "  '361704079': '533964345',\n",
       "  '1142441796': '6634914561',\n",
       "  '2504848893': '7137449473',\n",
       "  '6673132322': '5343884880',\n",
       "  '6974248367': '180961187',\n",
       "  '5076312087': '5201489928',\n",
       "  '5500515141': '810430186',\n",
       "  '7169127687': '526065446',\n",
       "  '5745978551': '7703245112',\n",
       "  '6807841857': '3967373103'\n",
       "}"
      ]
     },
     "execution_count": 16,
     "metadata": {},
     "output_type": "execute_result"
    }
   ],
   "source": [
    "r2[ptr]"
   ]
  },
  {
   "cell_type": "code",
   "execution_count": 17,
   "metadata": {},
   "outputs": [
    {
     "data": {
      "text/plain": [
       "'world'"
      ]
     },
     "execution_count": 17,
     "metadata": {},
     "output_type": "execute_result"
    }
   ],
   "source": [
    "faJs[ptr][\"hello\"] = \"world\""
   ]
  },
  {
   "cell_type": "code",
   "execution_count": 18,
   "metadata": {},
   "outputs": [
    {
     "data": {
      "text/plain": [
       "'world'"
      ]
     },
     "execution_count": 18,
     "metadata": {},
     "output_type": "execute_result"
    }
   ],
   "source": [
    "r1[ptr][\"hello\"]"
   ]
  },
  {
   "cell_type": "code",
   "execution_count": 19,
   "metadata": {},
   "outputs": [
    {
     "data": {
      "text/plain": [
       "'world'"
      ]
     },
     "execution_count": 19,
     "metadata": {},
     "output_type": "execute_result"
    }
   ],
   "source": [
    "r2[ptr][\"hello\"]"
   ]
  },
  {
   "cell_type": "code",
   "execution_count": 20,
   "metadata": {},
   "outputs": [
    {
     "data": {
      "text/plain": [
       "[Function]"
      ]
     },
     "execution_count": 20,
     "metadata": {},
     "output_type": "execute_result"
    }
   ],
   "source": [
    "const fromEntries = (it: Array<[string, any]>): any =>\n",
    "    it.reduce<any>(\n",
    "        (pv, [_key, _value]) =>\n",
    "            pv[_key] = typeof _value === \"object\" ? fromEntries(_value) : _value,\n",
    "        {});\n",
    "\n",
    "const ObjFromEntries = Object.fromEntries || fromEntries;\n",
    "\n",
    "export const deepClone = (o: unknown): any => {\n",
    "\n",
    "    const _clone = (_o: unknown): Array<[string, unknown]> =>\n",
    "        Object.entries(_o).map<[string, unknown]>(\n",
    "            ([_key, _value]) =>\n",
    "                typeof _value === \"object\" ? [_key, _clone(_value)] : [_key, _value]);\n",
    "\n",
    "    const entries = _clone(o);\n",
    "    return ObjFromEntries(entries);\n",
    "};"
   ]
  },
  {
   "cell_type": "code",
   "execution_count": 21,
   "metadata": {},
   "outputs": [
    {
     "data": {
      "text/plain": [
       "undefined"
      ]
     },
     "execution_count": 21,
     "metadata": {},
     "output_type": "execute_result"
    }
   ],
   "source": [
    "var r3 = deepClone(faJs)"
   ]
  },
  {
   "cell_type": "code",
   "execution_count": 22,
   "metadata": {},
   "outputs": [
    {
     "data": {
      "text/plain": [
       "'world'"
      ]
     },
     "execution_count": 22,
     "metadata": {},
     "output_type": "execute_result"
    }
   ],
   "source": [
    "faJs[ptr][\"hello\"] = \"world\""
   ]
  },
  {
   "cell_type": "code",
   "execution_count": 23,
   "metadata": {},
   "outputs": [
    {
     "data": {
      "text/plain": [
       "'world'"
      ]
     },
     "execution_count": 23,
     "metadata": {},
     "output_type": "execute_result"
    }
   ],
   "source": [
    "r1[ptr][\"hello\"]"
   ]
  },
  {
   "cell_type": "code",
   "execution_count": 24,
   "metadata": {},
   "outputs": [
    {
     "data": {
      "text/plain": [
       "'world'"
      ]
     },
     "execution_count": 24,
     "metadata": {},
     "output_type": "execute_result"
    }
   ],
   "source": [
    "r2[ptr][\"hello\"]"
   ]
  },
  {
   "cell_type": "code",
   "execution_count": 25,
   "metadata": {},
   "outputs": [
    {
     "data": {
      "text/plain": [
       "undefined"
      ]
     },
     "execution_count": 25,
     "metadata": {},
     "output_type": "execute_result"
    }
   ],
   "source": [
    "r3[ptr][\"hello\"]"
   ]
  },
  {
   "cell_type": "code",
   "execution_count": 26,
   "metadata": {},
   "outputs": [
    {
     "data": {
      "text/plain": [
       "true"
      ]
     },
     "execution_count": 26,
     "metadata": {},
     "output_type": "execute_result"
    }
   ],
   "source": [
    "faJs[ptr] === r1[ptr]"
   ]
  },
  {
   "cell_type": "code",
   "execution_count": 27,
   "metadata": {},
   "outputs": [
    {
     "data": {
      "text/plain": [
       "true"
      ]
     },
     "execution_count": 27,
     "metadata": {},
     "output_type": "execute_result"
    }
   ],
   "source": [
    "faJs[\"hello\"] === r3[\"hello\"]"
   ]
  },
  {
   "cell_type": "code",
   "execution_count": 28,
   "metadata": {},
   "outputs": [
    {
     "data": {
      "text/plain": [
       "'hello world'"
      ]
     },
     "execution_count": 28,
     "metadata": {},
     "output_type": "execute_result"
    }
   ],
   "source": [
    "r3[\"hello\"]"
   ]
  },
  {
   "cell_type": "code",
   "execution_count": 29,
   "metadata": {},
   "outputs": [
    {
     "data": {
      "text/plain": [
       "undefined"
      ]
     },
     "execution_count": 29,
     "metadata": {},
     "output_type": "execute_result"
    }
   ],
   "source": [
    "r2[\"hello\"]"
   ]
  },
  {
   "cell_type": "code",
   "execution_count": 30,
   "metadata": {},
   "outputs": [
    {
     "data": {
      "text/plain": [
       "false"
      ]
     },
     "execution_count": 30,
     "metadata": {},
     "output_type": "execute_result"
    }
   ],
   "source": [
    "faJs[ptr] === r3[ptr]"
   ]
  },
  {
   "cell_type": "code",
   "execution_count": 31,
   "metadata": {},
   "outputs": [
    {
     "data": {
      "text/plain": [
       "true"
      ]
     },
     "execution_count": 31,
     "metadata": {},
     "output_type": "execute_result"
    }
   ],
   "source": [
    "faJs[ptr] === r2[ptr]"
   ]
  },
  {
   "cell_type": "code",
   "execution_count": 32,
   "metadata": {},
   "outputs": [
    {
     "data": {
      "text/plain": [
       "'llo'"
      ]
     },
     "execution_count": 32,
     "metadata": {},
     "output_type": "execute_result"
    }
   ],
   "source": [
    "r2[ptr][\"he\"] = \"llo\""
   ]
  },
  {
   "cell_type": "code",
   "execution_count": 33,
   "metadata": {},
   "outputs": [
    {
     "data": {
      "text/plain": [
       "'llo'"
      ]
     },
     "execution_count": 33,
     "metadata": {},
     "output_type": "execute_result"
    }
   ],
   "source": [
    "faJs[ptr][\"he\"]"
   ]
  },
  {
   "cell_type": "code",
   "execution_count": 34,
   "metadata": {},
   "outputs": [
    {
     "data": {
      "text/plain": [
       "'llo !! r3'"
      ]
     },
     "execution_count": 34,
     "metadata": {},
     "output_type": "execute_result"
    }
   ],
   "source": [
    "r3[ptr][\"he\"] = \"llo !! r3\""
   ]
  },
  {
   "cell_type": "code",
   "execution_count": 35,
   "metadata": {},
   "outputs": [
    {
     "data": {
      "text/plain": [
       "'llo'"
      ]
     },
     "execution_count": 35,
     "metadata": {},
     "output_type": "execute_result"
    }
   ],
   "source": [
    "faJs[ptr][\"he\"]"
   ]
  },
  {
   "cell_type": "code",
   "execution_count": null,
   "metadata": {},
   "outputs": [],
   "source": []
  },
  {
   "cell_type": "code",
   "execution_count": null,
   "metadata": {},
   "outputs": [],
   "source": []
  }
 ],
 "metadata": {
  "kernelspec": {
   "display_name": "Typescript 3.8",
   "language": "typescript",
   "name": "typescript"
  },
  "language_info": {
   "file_extension": ".ts",
   "mimetype": "application/x-typescript",
   "name": "typescript",
   "version": "3.8.3"
  }
 },
 "nbformat": 4,
 "nbformat_minor": 4
}
