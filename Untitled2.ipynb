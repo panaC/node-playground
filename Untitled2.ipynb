{
 "cells": [
  {
   "cell_type": "code",
   "execution_count": 1,
   "metadata": {},
   "outputs": [
    {
     "data": {
      "text/plain": [
       "undefined"
      ]
     },
     "execution_count": 1,
     "metadata": {},
     "output_type": "execute_result"
    }
   ],
   "source": [
    "let str = \"jello\";"
   ]
  },
  {
   "cell_type": "code",
   "execution_count": 2,
   "metadata": {},
   "outputs": [
    {
     "data": {
      "text/plain": [
       "undefined"
      ]
     },
     "execution_count": 2,
     "metadata": {},
     "output_type": "execute_result"
    }
   ],
   "source": [
    "let fn = (s: string) => s"
   ]
  },
  {
   "cell_type": "code",
   "execution_count": 4,
   "metadata": {},
   "outputs": [
    {
     "data": {
      "text/plain": [
       "fn {}"
      ]
     },
     "execution_count": 4,
     "metadata": {},
     "output_type": "execute_result"
    }
   ],
   "source": [
    "fn.prototype"
   ]
  },
  {
   "cell_type": "code",
   "execution_count": 6,
   "metadata": {},
   "outputs": [
    {
     "data": {
      "text/plain": [
       "0"
      ]
     },
     "execution_count": 6,
     "metadata": {},
     "output_type": "execute_result"
    }
   ],
   "source": [
    "Math.floor(0.03)"
   ]
  },
  {
   "cell_type": "code",
   "execution_count": 7,
   "metadata": {},
   "outputs": [
    {
     "data": {
      "text/plain": [
       "0"
      ]
     },
     "execution_count": 7,
     "metadata": {},
     "output_type": "execute_result"
    }
   ],
   "source": [
    "Math.floor(0.999)"
   ]
  },
  {
   "cell_type": "code",
   "execution_count": 9,
   "metadata": {},
   "outputs": [
    {
     "data": {
      "text/plain": [
       "undefined"
      ]
     },
     "execution_count": 9,
     "metadata": {},
     "output_type": "execute_result"
    }
   ],
   "source": [
    "let seconds = 36"
   ]
  },
  {
   "cell_type": "code",
   "execution_count": 11,
   "metadata": {},
   "outputs": [
    {
     "data": {
      "text/plain": [
       "36"
      ]
     },
     "execution_count": 11,
     "metadata": {},
     "output_type": "execute_result"
    }
   ],
   "source": [
    "seconds %= 3600"
   ]
  },
  {
   "cell_type": "code",
   "execution_count": 12,
   "metadata": {},
   "outputs": [
    {
     "data": {
      "text/plain": [
       "3700"
      ]
     },
     "execution_count": 12,
     "metadata": {},
     "output_type": "execute_result"
    }
   ],
   "source": [
    "seconds = 3700;"
   ]
  },
  {
   "cell_type": "code",
   "execution_count": 13,
   "metadata": {},
   "outputs": [
    {
     "data": {
      "text/plain": [
       "100"
      ]
     },
     "execution_count": 13,
     "metadata": {},
     "output_type": "execute_result"
    }
   ],
   "source": [
    "seconds %= 3600"
   ]
  },
  {
   "cell_type": "code",
   "execution_count": 14,
   "metadata": {},
   "outputs": [
    {
     "data": {
      "text/plain": [
       "undefined"
      ]
     },
     "execution_count": 14,
     "metadata": {},
     "output_type": "execute_result"
    }
   ],
   "source": [
    "const hms = (seconds: number) => {\n",
    "        const secondsPerMinute = 60;\n",
    "        const minutesPerHours = 60;\n",
    "        const secondsPerHour = minutesPerHours * secondsPerMinute;\n",
    "\n",
    "        const hours = Math.floor(seconds / secondsPerHour);\n",
    "        seconds %= secondsPerHour;\n",
    "\n",
    "        const minutes = Math.floor(seconds / secondsPerMinute);\n",
    "        seconds %= secondsPerMinute;\n",
    "\n",
    "        return {\n",
    "            hours,\n",
    "            minutes,\n",
    "            seconds,\n",
    "        };\n",
    "}"
   ]
  },
  {
   "cell_type": "code",
   "execution_count": 15,
   "metadata": {},
   "outputs": [
    {
     "data": {
      "text/plain": [
       "{ hours: 1, minutes: 0, seconds: 0 }"
      ]
     },
     "execution_count": 15,
     "metadata": {},
     "output_type": "execute_result"
    }
   ],
   "source": [
    "hms(3600)"
   ]
  },
  {
   "cell_type": "code",
   "execution_count": 16,
   "metadata": {},
   "outputs": [
    {
     "data": {
      "text/plain": [
       "{ hours: 1, minutes: 0, seconds: 1 }"
      ]
     },
     "execution_count": 16,
     "metadata": {},
     "output_type": "execute_result"
    }
   ],
   "source": [
    "hms(3601)"
   ]
  },
  {
   "cell_type": "code",
   "execution_count": 17,
   "metadata": {},
   "outputs": [
    {
     "data": {
      "text/plain": [
       "{ hours: 1, minutes: 1, seconds: 1 }"
      ]
     },
     "execution_count": 17,
     "metadata": {},
     "output_type": "execute_result"
    }
   ],
   "source": [
    "hms(3661)"
   ]
  },
  {
   "cell_type": "code",
   "execution_count": 18,
   "metadata": {},
   "outputs": [
    {
     "ename": "Error",
     "evalue": "Line 1, Character 12\nMath.round(undefined * 12)\n___________^\nTS2532: Object is possibly 'undefined'.",
     "output_type": "error",
     "traceback": [
      "Error: Line 1, Character 12",
      "Math.round(undefined * 12)",
      "___________^",
      "TS2532: Object is possibly 'undefined'.",
      "    at execTranspile (/usr/local/lib/node_modules/itypescript/lib/kernel.js:203:27)",
      "    at Session.transpiler [as transpile] (/usr/local/lib/node_modules/itypescript/lib/kernel.js:263:37)",
      "    at Session._runNow (/usr/local/lib/node_modules/itypescript/node_modules/nel/lib/nel.js:796:39)",
      "    at Session._run (/usr/local/lib/node_modules/itypescript/node_modules/nel/lib/nel.js:766:14)",
      "    at Session.execute (/usr/local/lib/node_modules/itypescript/node_modules/nel/lib/nel.js:890:10)",
      "    at Kernel.execute_request (/usr/local/lib/node_modules/itypescript/node_modules/jp-kernel/lib/handlers_v5.js:116:18)",
      "    at Kernel.onShellMessage (/usr/local/lib/node_modules/itypescript/node_modules/jp-kernel/lib/jp-kernel.js:285:41)",
      "    at Socket.<anonymous> (/usr/local/lib/node_modules/itypescript/node_modules/jmp/index.js:350:17)",
      "    at Socket.emit (events.js:198:13)",
      "    at Socket._emitMessage (/usr/local/lib/node_modules/itypescript/node_modules/zeromq/lib/index.js:640:15)"
     ]
    }
   ],
   "source": [
    "Math.round(undefined * 12)"
   ]
  },
  {
   "cell_type": "code",
   "execution_count": 19,
   "metadata": {},
   "outputs": [
    {
     "data": {
      "text/plain": [
       "undefined"
      ]
     },
     "execution_count": 19,
     "metadata": {},
     "output_type": "execute_result"
    }
   ],
   "source": [
    "const undef = undefined"
   ]
  },
  {
   "cell_type": "code",
   "execution_count": 20,
   "metadata": {},
   "outputs": [
    {
     "data": {
      "text/plain": [
       "NaN"
      ]
     },
     "execution_count": 20,
     "metadata": {},
     "output_type": "execute_result"
    }
   ],
   "source": [
    "Math.round(undef * 12)"
   ]
  },
  {
   "cell_type": "code",
   "execution_count": null,
   "metadata": {},
   "outputs": [],
   "source": []
  }
 ],
 "metadata": {
  "kernelspec": {
   "display_name": "Typescript 3.8",
   "language": "typescript",
   "name": "typescript"
  },
  "language_info": {
   "file_extension": ".ts",
   "mimetype": "application/x-typescript",
   "name": "typescript",
   "version": "3.8.3"
  }
 },
 "nbformat": 4,
 "nbformat_minor": 4
}
